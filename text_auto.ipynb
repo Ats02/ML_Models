{
 "cells": [
  {
   "cell_type": "code",
   "execution_count": 11,
   "metadata": {},
   "outputs": [
    {
     "name": "stderr",
     "output_type": "stream",
     "text": [
      "[nltk_data] Downloading package punkt to\n",
      "[nltk_data]     C:\\Users\\awach\\AppData\\Roaming\\nltk_data...\n",
      "[nltk_data]   Package punkt is already up-to-date!\n",
      "[nltk_data] Downloading package punkt_tab to\n",
      "[nltk_data]     C:\\Users\\awach\\AppData\\Roaming\\nltk_data...\n",
      "[nltk_data]   Package punkt_tab is already up-to-date!\n"
     ]
    },
    {
     "data": {
      "text/plain": [
       "True"
      ]
     },
     "execution_count": 11,
     "metadata": {},
     "output_type": "execute_result"
    }
   ],
   "source": [
    "import nltk\n",
    "nltk.download('punkt')\n",
    "nltk.download('punkt_tab')"
   ]
  },
  {
   "cell_type": "code",
   "execution_count": 24,
   "metadata": {},
   "outputs": [],
   "source": [
    "\n",
    "from nltk import ngrams\n",
    "from collections import defaultdict\n",
    "import string\n",
    "\n",
    "with open(r'TExtAuto\\en_US.twitter.txt\\en_US.twitter.txt', 'r', encoding='utf-8') as file:\n",
    "    corpus2 = file.read()\n",
    "punctuations = string.punctuation\n",
    "corpus = \"\".join([char for char in corpus2 if char not in punctuations])\n",
    "tokens = nltk.word_tokenize(corpus.lower()) \n",
    "\n",
    "n = 2\n",
    "ngram_tuples = list(ngrams(tokens, n, pad_left=True, pad_right=True, left_pad_symbol='<s>', right_pad_symbol='</s>'))\n",
    "\n",
    "ngram_freq = defaultdict(int)\n",
    "for ngram in ngram_tuples:\n",
    "    ngram_freq[ngram] += 1\n",
    "\n"
   ]
  },
  {
   "cell_type": "code",
   "execution_count": 25,
   "metadata": {},
   "outputs": [],
   "source": [
    "def suggest_next_words(prefix):\n",
    "    prefix = prefix.lower()\n",
    "    prefix_tuple = tuple(prefix.split())\n",
    "    suggestions = []\n",
    "    for ngram, freq in ngram_freq.items():\n",
    "        if ngram[:len(prefix_tuple)] == prefix_tuple:\n",
    "            suggestions.append((ngram[-1], freq))\n",
    "    suggestions.sort(key=lambda x: x[1], reverse=True)\n",
    "    return suggestions[:5]  \n",
    "\n"
   ]
  },
  {
   "cell_type": "code",
   "execution_count": 26,
   "metadata": {},
   "outputs": [
    {
     "name": "stdout",
     "output_type": "stream",
     "text": [
      "Suggestions for 'currently':\n",
      "in\n",
      "on\n",
      "working\n",
      "listening\n",
      "at\n"
     ]
    }
   ],
   "source": [
    "\n",
    "input_prefix ='currently'# input()\n",
    "suggested_words = suggest_next_words(input_prefix)\n",
    "\n",
    "print(f\"Suggestions for '{input_prefix}':\")\n",
    "for word, freq in suggested_words:\n",
    "    print(f\"{word}\")"
   ]
  },
  {
   "cell_type": "code",
   "execution_count": 27,
   "metadata": {},
   "outputs": [],
   "source": [
    "import joblib"
   ]
  },
  {
   "cell_type": "code",
   "execution_count": 28,
   "metadata": {},
   "outputs": [
    {
     "data": {
      "text/plain": [
       "['ngfreq.pkl']"
      ]
     },
     "execution_count": 28,
     "metadata": {},
     "output_type": "execute_result"
    }
   ],
   "source": [
    "joblib.dump(ngram_freq,'ngfreq.pkl')"
   ]
  },
  {
   "cell_type": "code",
   "execution_count": 29,
   "metadata": {},
   "outputs": [],
   "source": [
    "ngf = joblib.load('ngfreq.pkl')"
   ]
  },
  {
   "cell_type": "code",
   "execution_count": 30,
   "metadata": {},
   "outputs": [],
   "source": [
    "def suggest_word(prefix):\n",
    "    prefix = prefix.lower()\n",
    "    prefix_tuple = tuple(prefix.split())\n",
    "    suggestions = []\n",
    "    for ngram, freq in ngf.items():\n",
    "        if ngram[:len(prefix_tuple)] == prefix_tuple:\n",
    "            suggestions.append((ngram[-1], freq))\n",
    "    suggestions.sort(key=lambda x: x[1], reverse=True)\n",
    "    return suggestions[:5]  \n",
    "\n"
   ]
  },
  {
   "cell_type": "code",
   "execution_count": 31,
   "metadata": {},
   "outputs": [],
   "source": [
    "ans = suggest_word('Great')"
   ]
  },
  {
   "cell_type": "code",
   "execution_count": 32,
   "metadata": {},
   "outputs": [
    {
     "name": "stdout",
     "output_type": "stream",
     "text": [
      "[('day', 4182), ('to', 3292), ('time', 2434), ('weekend', 2088), ('job', 1750)]\n"
     ]
    }
   ],
   "source": [
    "print(ans)"
   ]
  },
  {
   "cell_type": "code",
   "execution_count": null,
   "metadata": {},
   "outputs": [],
   "source": []
  }
 ],
 "metadata": {
  "kernelspec": {
   "display_name": ".venv",
   "language": "python",
   "name": "python3"
  },
  "language_info": {
   "codemirror_mode": {
    "name": "ipython",
    "version": 3
   },
   "file_extension": ".py",
   "mimetype": "text/x-python",
   "name": "python",
   "nbconvert_exporter": "python",
   "pygments_lexer": "ipython3",
   "version": "3.12.5"
  }
 },
 "nbformat": 4,
 "nbformat_minor": 2
}
